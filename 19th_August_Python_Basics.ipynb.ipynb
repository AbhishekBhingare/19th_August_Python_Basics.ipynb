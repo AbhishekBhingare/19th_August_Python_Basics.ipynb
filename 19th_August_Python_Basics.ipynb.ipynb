{
 "cells": [
  {
   "cell_type": "markdown",
   "id": "a4687019-6c38-462d-ad20-fced6fc374e3",
   "metadata": {},
   "source": [
    "1. Declare two variables, `x` and `y`, and assign them integer values. Swap the\n",
    "values of these variables without using any temporary variable."
   ]
  },
  {
   "cell_type": "code",
   "execution_count": 3,
   "id": "476a9afc-77f8-44e3-ae35-d798bf28f711",
   "metadata": {},
   "outputs": [
    {
     "name": "stdout",
     "output_type": "stream",
     "text": [
      "12 11\n"
     ]
    }
   ],
   "source": [
    "    a = 11\n",
    "    b = 12\n",
    "a = a+b  # a=23\n",
    "b = a-b  # b= 23-12=11\n",
    "a = a-b  # a= 23-11=12\n",
    "print(a,b) #12,11"
   ]
  },
  {
   "cell_type": "code",
   "execution_count": 4,
   "id": "cd9e41ca-7b05-4076-98ab-b4fc15d336c4",
   "metadata": {},
   "outputs": [
    {
     "name": "stdout",
     "output_type": "stream",
     "text": [
      "200 100\n"
     ]
    }
   ],
   "source": [
    "a = 100\n",
    "b = 200\n",
    "a = a+b\n",
    "b = a-b\n",
    "a = a-b\n",
    "print(a,b)"
   ]
  },
  {
   "cell_type": "markdown",
   "id": "6919ee25-bfce-46cd-be75-9e5a31538733",
   "metadata": {},
   "source": [
    "2. Create a program that calculates the area of a rectangle. Take the length and\n",
    "width as inputs from the user and store them in variables. Calculate and\n",
    "display the area."
   ]
  },
  {
   "cell_type": "code",
   "execution_count": 48,
   "id": "a9309515-a8dd-4496-bafc-03f937648283",
   "metadata": {},
   "outputs": [
    {
     "name": "stdin",
     "output_type": "stream",
     "text": [
      "Enter length of rectangle 2\n",
      "Enter width of the rectangle 3\n"
     ]
    },
    {
     "name": "stdout",
     "output_type": "stream",
     "text": [
      "Area of the reactangle is  6\n"
     ]
    }
   ],
   "source": [
    "length = int(input('Enter length of rectangle'))\n",
    "width = int(input('Enter width of the rectangle'))\n",
    "area = length*width\n",
    "print('Area of the reactangle is ',area)"
   ]
  },
  {
   "cell_type": "markdown",
   "id": "f8c91b11-2851-4629-8b68-27625cccb397",
   "metadata": {},
   "source": [
    "3. Write a Python program that converts temperatures from Celsius to\n",
    "Fahrenheit. Take the temperature in Celsius as input, store it in a variable,\n",
    "convert it to Fahrenheit, and display the result."
   ]
  },
  {
   "cell_type": "code",
   "execution_count": 51,
   "id": "625b71c6-1ea4-4b29-a0ed-6c87bee5953e",
   "metadata": {},
   "outputs": [
    {
     "name": "stdin",
     "output_type": "stream",
     "text": [
      "Enter the temperature in celsius 2\n"
     ]
    },
    {
     "name": "stdout",
     "output_type": "stream",
     "text": [
      "35.6\n"
     ]
    }
   ],
   "source": [
    "temperature_in_celsius = int(input('Enter the temperature in celsius'))\n",
    "fahrenheit = (temperature_in_celsius*1 *9/5) +32\n",
    "print(fahrenheit)"
   ]
  },
  {
   "cell_type": "code",
   "execution_count": null,
   "id": "e40401b3-661d-43b4-964c-3499323db402",
   "metadata": {},
   "outputs": [],
   "source": []
  },
  {
   "cell_type": "markdown",
   "id": "0837f504-3d71-47b0-90cd-912922bd7fd4",
   "metadata": {},
   "source": [
    "TOPIC: String Based Questions"
   ]
  },
  {
   "cell_type": "markdown",
   "id": "eb64375d-d5ed-4e46-ab4a-288328f97b04",
   "metadata": {},
   "source": [
    "1. Write a Python program that takes a string as input and prints the length of\n",
    "the string."
   ]
  },
  {
   "cell_type": "code",
   "execution_count": 52,
   "id": "ef5bb030-6058-43e4-a043-b5c689bfafd6",
   "metadata": {},
   "outputs": [
    {
     "name": "stdin",
     "output_type": "stream",
     "text": [
      "Enter the string to count the length of the string abhishek\n"
     ]
    },
    {
     "name": "stdout",
     "output_type": "stream",
     "text": [
      "8\n"
     ]
    }
   ],
   "source": [
    "String = input('Enter the string to count the length of the string')\n",
    "print(len(String))"
   ]
  },
  {
   "cell_type": "markdown",
   "id": "e802b95d-0d73-4cb9-a37a-98008d452c6f",
   "metadata": {},
   "source": [
    "2. Create a program that takes a sentence from the user and counts the number\n",
    "of vowels (a, e, i, o, u) in the string."
   ]
  },
  {
   "cell_type": "code",
   "execution_count": 12,
   "id": "9d87a12f-7921-4a6c-b5ef-9a169ffa59c3",
   "metadata": {},
   "outputs": [
    {
     "name": "stdin",
     "output_type": "stream",
     "text": [
      "Enter a Sentence to count vowels in the string abhishek\n"
     ]
    },
    {
     "name": "stdout",
     "output_type": "stream",
     "text": [
      "3\n"
     ]
    }
   ],
   "source": [
    "String = input('Enter a Sentence to count vowels in the string')\n",
    "vowels = 'aeiouAEIOIU' #both upper and lower case include\n",
    "count=0 # to count the vowels in the String\n",
    "for char in string:     #1.   a\n",
    "    if char in vowels:  #1.   a in aeiouAEIOU\n",
    "        count+=1        #1.   count=1\n",
    "print(count)"
   ]
  },
  {
   "cell_type": "markdown",
   "id": "b5edb1a4-e7b9-4253-b770-9bf115f84da4",
   "metadata": {},
   "source": [
    "3. Given a string, reverse the order of characters using string slicing and print\n",
    "the reversed string."
   ]
  },
  {
   "cell_type": "code",
   "execution_count": 14,
   "id": "3cfad5e1-2a49-433e-a7a8-2b63d0afed57",
   "metadata": {},
   "outputs": [
    {
     "data": {
      "text/plain": [
       "'kehsihba'"
      ]
     },
     "execution_count": 14,
     "metadata": {},
     "output_type": "execute_result"
    }
   ],
   "source": [
    "string = 'abhishek'\n",
    "string[::-1]   #first to start indexing second to end indexing and last to no of jumps"
   ]
  },
  {
   "cell_type": "markdown",
   "id": "5dbb2d24-9f75-4e18-9eec-f3d927c4eec2",
   "metadata": {},
   "source": [
    "4. Write a program that takes a string as input and checks if it is a palindrome\n",
    "(reads the same forwards and backwards)."
   ]
  },
  {
   "cell_type": "code",
   "execution_count": 40,
   "id": "9fe15a32-5fbb-4f05-a158-228afccc37eb",
   "metadata": {},
   "outputs": [
    {
     "name": "stdin",
     "output_type": "stream",
     "text": [
      "Enter a String to check if it is palindrome or not abhi\n"
     ]
    },
    {
     "name": "stdout",
     "output_type": "stream",
     "text": [
      "This sentence is not palindrome\n"
     ]
    }
   ],
   "source": [
    "String = input('Enter a String to check if it is palindrome or not')\n",
    "sentence = ''.join(char for char in String if char.isalnum())  #this line of code remove all chareacter excpet alphanumberic \n",
    "sentence = sentence.lower()  # this make suppose if string is Mom then it is mom\n",
    "if sentence==sentence[::-1]:\n",
    "    print('This sentence is palindrome')\n",
    "else :\n",
    "    print('This sentence is not palindrome')"
   ]
  },
  {
   "cell_type": "markdown",
   "id": "6bdbac8b-c997-417e-9035-6a44ee55997f",
   "metadata": {},
   "source": [
    "5. Create a program that takes a string as input and removes all the spaces from\n",
    "it. Print the modified string without spaces."
   ]
  },
  {
   "cell_type": "code",
   "execution_count": 46,
   "id": "498e13d7-1025-4101-bfec-0b2a3f728d25",
   "metadata": {},
   "outputs": [
    {
     "name": "stdin",
     "output_type": "stream",
     "text": [
      "Enter a String or sentence to remove all spaces abhi shek bhin gare\n"
     ]
    },
    {
     "name": "stdout",
     "output_type": "stream",
     "text": [
      "abhishekbhingare\n"
     ]
    }
   ],
   "source": [
    "string = input('Enter a String or sentence to remove all spaces')\n",
    "print(string.replace(\" \",\"\"))  #here .replace is used"
   ]
  },
  {
   "cell_type": "code",
   "execution_count": null,
   "id": "0c33672c-4812-447c-9790-07d781d8798c",
   "metadata": {},
   "outputs": [],
   "source": []
  }
 ],
 "metadata": {
  "kernelspec": {
   "display_name": "Python 3 (ipykernel)",
   "language": "python",
   "name": "python3"
  },
  "language_info": {
   "codemirror_mode": {
    "name": "ipython",
    "version": 3
   },
   "file_extension": ".py",
   "mimetype": "text/x-python",
   "name": "python",
   "nbconvert_exporter": "python",
   "pygments_lexer": "ipython3",
   "version": "3.10.8"
  }
 },
 "nbformat": 4,
 "nbformat_minor": 5
}
